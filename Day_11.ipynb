{
 "cells": [
  {
   "cell_type": "markdown",
   "id": "62e834ff",
   "metadata": {},
   "source": [
    "# Day 11: Cathode-Ray Tube\n",
    "\n",
    "## Part 1\n",
    "Find the signal strength during the 20th, 60th, 100th, 140th, 180th, and 220th cycles. **What is the sum of these six signal strengths?**\n"
   ]
  },
  {
   "cell_type": "code",
   "execution_count": null,
   "id": "06a93aeb",
   "metadata": {},
   "outputs": [],
   "source": [
    "# Imports.\n",
    "from math import prod"
   ]
  },
  {
   "cell_type": "code",
   "execution_count": null,
   "id": "15e87d02",
   "metadata": {},
   "outputs": [],
   "source": [
    "# This shouldn't need to be updated.\n",
    "def get_data(day, test):\n",
    "    path = 'Input/Day_{}{}.txt'.format(day, \"_test\" if test else \"\")\n",
    "    print(\"Opening data file at {}\".format(path))\n",
    "    with open(path) as file:\n",
    "        lines = ''.join(file.readlines()).rstrip()\n",
    "    return lines"
   ]
  },
  {
   "cell_type": "code",
   "execution_count": null,
   "id": "53b488df",
   "metadata": {},
   "outputs": [],
   "source": [
    "# Update each day if necessary based on input format\n",
    "def try_int(x):\n",
    "    try:\n",
    "        return int(x)\n",
    "    except:\n",
    "        return x\n",
    "\n",
    "\n",
    "def process_data(data):\n",
    "    monkeys = [row.split('\\n') for row in data.split('\\n\\n')]\n",
    "    for monkey in monkeys:\n",
    "        del monkey[0]\n",
    "        monkey[0] = [int(x) for x in monkey[0].split('Starting items: ')[1].split(', ')]\n",
    "        monkey[1] = [try_int(x) for x in monkey[1].split('Operation: new = ')[1].split(' ')]\n",
    "        monkey[2] = int(monkey[2].split('Test: divisible by ')[1])\n",
    "        monkey[3] = int(monkey[3].split('If true: throw to monkey ')[1])\n",
    "        monkey[4] = int(monkey[4].split('If false: throw to monkey ')[1])\n",
    "    \n",
    "    return monkeys\n"
   ]
  },
  {
   "cell_type": "code",
   "execution_count": null,
   "id": "51c095d4",
   "metadata": {},
   "outputs": [
    {
     "name": "stdout",
     "output_type": "stream",
     "text": [
      "Opening data file at Input/Day_11.txt\n"
     ]
    },
    {
     "data": {
      "text/plain": [
       "[[[89, 74], ['old', '*', 5], 17, 4, 7],\n",
       " [[75, 69, 87, 57, 84, 90, 66, 50], ['old', '+', 3], 7, 3, 2],\n",
       " [[55], ['old', '+', 7], 13, 0, 7],\n",
       " [[69, 82, 69, 56, 68], ['old', '+', 5], 2, 0, 2],\n",
       " [[72, 97, 50], ['old', '+', 2], 19, 6, 5],\n",
       " [[90, 84, 56, 92, 91, 91], ['old', '*', 19], 3, 6, 1],\n",
       " [[63, 93, 55, 53], ['old', '*', 'old'], 5, 3, 1],\n",
       " [[50, 61, 52, 58, 86, 68, 97], ['old', '+', 4], 11, 5, 4]]"
      ]
     },
     "execution_count": null,
     "metadata": {},
     "output_type": "execute_result"
    }
   ],
   "source": [
    "# Confirm data is loaded & processed.\n",
    "\n",
    "day = 11\n",
    "test = False\n",
    "\n",
    "raw_data = get_data(day, test)\n",
    "data = process_data(raw_data)\n",
    "data"
   ]
  },
  {
   "cell_type": "code",
   "execution_count": null,
   "id": "f03f9e43",
   "metadata": {},
   "outputs": [],
   "source": [
    "def create_operation(a, char, b):\n",
    "    ops = {'*': lambda x, y: x * y, '+': lambda x, y: x + y}\n",
    "    return lambda input: ops[char](input, b if b != 'old' else input)\n",
    "\n",
    "class Monkey:\n",
    "    \n",
    "    def __init__(self, starting_items, operation, test, true_target, false_target):\n",
    "        self.items = starting_items[::]\n",
    "        self.operation = create_operation(*operation)\n",
    "        self.test_n = test\n",
    "        self.test = lambda x: x % self.test_n == 0\n",
    "        self.targets = {True: true_target, False: false_target}\n",
    "        self.inspection_count = 0\n",
    "        \n",
    "        \n",
    "    def take_turn(self, barrell):\n",
    "        for item in self.items:\n",
    "            # Inspect, relief, test, throw.\n",
    "            item = self.operation(item)\n",
    "            item = item // 3\n",
    "            barrell[self.targets[self.test(item)]].items.append(item)\n",
    "            self.inspection_count += 1\n",
    "        self.items = []\n",
    "            "
   ]
  },
  {
   "cell_type": "code",
   "execution_count": null,
   "id": "710609fd",
   "metadata": {},
   "outputs": [],
   "source": [
    "def solve_a(data):\n",
    "    barrell = [Monkey(*monkey) for monkey in data]\n",
    "    for i in range(20):\n",
    "        for monkey in barrell:\n",
    "            monkey.take_turn(barrell)\n",
    "    activity = sorted([monkey.inspection_count for monkey in barrell])\n",
    "    return activity[-1] * activity[-2]"
   ]
  },
  {
   "cell_type": "code",
   "execution_count": null,
   "id": "33781d4e",
   "metadata": {},
   "outputs": [
    {
     "name": "stdout",
     "output_type": "stream",
     "text": [
      "120056\n"
     ]
    }
   ],
   "source": [
    "print(solve_a(data))"
   ]
  },
  {
   "cell_type": "markdown",
   "id": "cd23ac75",
   "metadata": {},
   "source": [
    "## Part 2\n",
    "Worry levels are no longer divided by three after each item is inspected; you'll need to find another way to keep your worry levels manageable. **Starting again from the initial state in your puzzle input, what is the level of monkey business after 10000 rounds?**"
   ]
  },
  {
   "cell_type": "code",
   "execution_count": null,
   "id": "c326f1ca",
   "metadata": {},
   "outputs": [],
   "source": [
    "def create_operation(a, char, b):\n",
    "    ops = {'*': lambda x, y: x * y, '+': lambda x, y: x + y}\n",
    "    return lambda input: ops[char](input, b if b != 'old' else input)\n",
    "\n",
    "class Monkey_b:\n",
    "    \n",
    "    def __init__(self, starting_items, operation, test, true_target, false_target):\n",
    "        self.items = starting_items[::]\n",
    "        self.operation = create_operation(*operation)\n",
    "        self.test_n = test\n",
    "        self.test = lambda x: x % self.test_n == 0\n",
    "        self.targets = {True: true_target, False: false_target}\n",
    "        self.inspection_count = 0\n",
    "        \n",
    "        \n",
    "    def take_turn(self, barrell):\n",
    "        for item in self.items:\n",
    "            # Inspect, NO RELIEF, modulo, test, throw.\n",
    "            item = self.operation(item)\n",
    "            item = item % self.modulo\n",
    "            barrell[self.targets[self.test(item)]].items.append(item)\n",
    "            self.inspection_count += 1\n",
    "        self.items = []"
   ]
  },
  {
   "cell_type": "code",
   "execution_count": null,
   "id": "6538c13d",
   "metadata": {},
   "outputs": [],
   "source": [
    "def solve_b(data):\n",
    "    barrell = [Monkey_b(*monkey) for monkey in data]\n",
    "    modulo = prod([monkey.test_n for monkey in barrell])\n",
    "    for monkey in barrell:\n",
    "        monkey.modulo = modulo\n",
    "    for i in range(10000):\n",
    "        for monkey in barrell:\n",
    "            monkey.take_turn(barrell)\n",
    "    activity = sorted([monkey.inspection_count for monkey in barrell])\n",
    "    return activity[-1] * activity[-2]"
   ]
  },
  {
   "cell_type": "code",
   "execution_count": null,
   "id": "bb8df088",
   "metadata": {},
   "outputs": [
    {
     "name": "stdout",
     "output_type": "stream",
     "text": [
      "21816744824\n"
     ]
    }
   ],
   "source": [
    "print(solve_b(data))"
   ]
  },
  {
   "cell_type": "code",
   "execution_count": null,
   "id": "fc61d049",
   "metadata": {},
   "outputs": [],
   "source": []
  },
  {
   "cell_type": "code",
   "execution_count": null,
   "id": "b4d22298",
   "metadata": {},
   "outputs": [],
   "source": []
  },
  {
   "cell_type": "code",
   "execution_count": null,
   "id": "baa1fd06",
   "metadata": {},
   "outputs": [],
   "source": []
  },
  {
   "cell_type": "code",
   "execution_count": null,
   "id": "7ab4df78",
   "metadata": {},
   "outputs": [],
   "source": []
  },
  {
   "cell_type": "code",
   "execution_count": null,
   "id": "81f48d31",
   "metadata": {},
   "outputs": [],
   "source": []
  },
  {
   "cell_type": "code",
   "execution_count": null,
   "id": "2384846c",
   "metadata": {},
   "outputs": [],
   "source": []
  }
 ],
 "metadata": {
  "kernelspec": {
   "display_name": "Python 3 (ipykernel)",
   "language": "python",
   "name": "python3"
  }
 },
 "nbformat": 4,
 "nbformat_minor": 5
}
