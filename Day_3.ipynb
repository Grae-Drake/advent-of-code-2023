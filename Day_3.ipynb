{
 "cells": [
  {
   "cell_type": "markdown",
   "id": "62e834ff",
   "metadata": {},
   "source": [
    "# Day 3: Rucksack Reorganization\n",
    "\n",
    "## Part 1\n",
    "Find the item type that appears in both compartments of each rucksack. What is the sum of the priorities of those item types?"
   ]
  },
  {
   "cell_type": "code",
   "execution_count": null,
   "id": "06a93aeb",
   "metadata": {},
   "outputs": [],
   "source": [
    "import string"
   ]
  },
  {
   "cell_type": "code",
   "execution_count": null,
   "id": "15e87d02",
   "metadata": {},
   "outputs": [],
   "source": [
    "def get_data(day, test):\n",
    "    path = 'Input/Day_{}{}.txt'.format(day, \"_test\" if test else \"\")\n",
    "    print(\"Opening data file at {}\".format(path))\n",
    "    with open(path) as file:\n",
    "        lines = ''.join(file.readlines()).rstrip()\n",
    "    return lines"
   ]
  },
  {
   "cell_type": "code",
   "execution_count": null,
   "id": "53b488df",
   "metadata": {},
   "outputs": [],
   "source": [
    "# Update each day if necessary based on input format\n",
    "def process_data(data):\n",
    "    return data.split('\\n')"
   ]
  },
  {
   "cell_type": "code",
   "execution_count": null,
   "id": "51c095d4",
   "metadata": {},
   "outputs": [
    {
     "name": "stdout",
     "output_type": "stream",
     "text": [
      "Opening data file at Input/Day_3.txt\n"
     ]
    }
   ],
   "source": [
    "# Confirm data is loaded & processed.\n",
    "\n",
    "day = 3\n",
    "test = False\n",
    "\n",
    "raw_data = get_data(day, test)\n",
    "data = process_data(raw_data)\n",
    "# data"
   ]
  },
  {
   "cell_type": "code",
   "execution_count": null,
   "id": "710609fd",
   "metadata": {},
   "outputs": [],
   "source": [
    "def alpha(char):\n",
    "    return ''.join([string.ascii_lowercase, string.ascii_uppercase]).index(char) + 1\n",
    "\n",
    "\n",
    "def partition(sack):\n",
    "    return [set(sack[:len(sack) // 2]), set(sack[len(sack) // 2:])]\n",
    "\n",
    "\n",
    "def common_element(sets):\n",
    "    return set.intersection(*sets).pop()\n",
    "\n",
    "\n",
    "def solve_a(data):\n",
    "    return sum([alpha(common_element(partition(sack))) for sack in data])\n",
    "    "
   ]
  },
  {
   "cell_type": "code",
   "execution_count": null,
   "id": "33781d4e",
   "metadata": {},
   "outputs": [
    {
     "data": {
      "text/plain": [
       "7875"
      ]
     },
     "execution_count": null,
     "metadata": {},
     "output_type": "execute_result"
    }
   ],
   "source": [
    "solve_a(data)"
   ]
  },
  {
   "cell_type": "markdown",
   "id": "cd23ac75",
   "metadata": {},
   "source": [
    "## Part 2\n",
    "Find the item type that corresponds to the badges of each three-Elf group. What is the sum of the priorities of those item types?\n"
   ]
  },
  {
   "cell_type": "code",
   "execution_count": null,
   "id": "c9d1b45f",
   "metadata": {},
   "outputs": [],
   "source": [
    "def chunk(l, n):\n",
    "    return [l[i * n: i * n + n] for i in range(len(l) // n)]\n",
    "\n",
    "\n",
    "def process_data(raw_data):\n",
    "    return chunk([set(line) for line in raw_data.split('\\n')], 3)"
   ]
  },
  {
   "cell_type": "code",
   "execution_count": null,
   "id": "23834475",
   "metadata": {},
   "outputs": [],
   "source": [
    "data = process_data(raw_data)\n",
    "# data"
   ]
  },
  {
   "cell_type": "code",
   "execution_count": null,
   "id": "6538c13d",
   "metadata": {},
   "outputs": [],
   "source": [
    "def solve_b(data):\n",
    "    return sum([alpha(common_element(group))for group in data])"
   ]
  },
  {
   "cell_type": "code",
   "execution_count": null,
   "id": "bb8df088",
   "metadata": {},
   "outputs": [
    {
     "data": {
      "text/plain": [
       "2479"
      ]
     },
     "execution_count": null,
     "metadata": {},
     "output_type": "execute_result"
    }
   ],
   "source": [
    "solve_b(data)"
   ]
  },
  {
   "cell_type": "code",
   "execution_count": null,
   "id": "482d8562",
   "metadata": {},
   "outputs": [],
   "source": []
  }
 ],
 "metadata": {
  "kernelspec": {
   "display_name": "Python 3 (ipykernel)",
   "language": "python",
   "name": "python3"
  }
 },
 "nbformat": 4,
 "nbformat_minor": 5
}
