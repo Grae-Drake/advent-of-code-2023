{
 "cells": [
  {
   "cell_type": "markdown",
   "id": "62e834ff",
   "metadata": {},
   "source": [
    "# Day 5: Supply Stacks\n",
    "\n",
    "## Part 1\n",
    "After the rearrangement procedure completes, what crate ends up on top of each stack?"
   ]
  },
  {
   "cell_type": "code",
   "execution_count": null,
   "id": "06a93aeb",
   "metadata": {},
   "outputs": [],
   "source": []
  },
  {
   "cell_type": "code",
   "execution_count": null,
   "id": "15e87d02",
   "metadata": {},
   "outputs": [],
   "source": [
    "def get_data(day, test):\n",
    "    path = 'Input/Day_{}{}.txt'.format(day, \"_test\" if test else \"\")\n",
    "    print(\"Opening data file at {}\".format(path))\n",
    "    with open(path) as file:\n",
    "        lines = ''.join(file.readlines()).rstrip()\n",
    "    return lines"
   ]
  },
  {
   "cell_type": "code",
   "execution_count": null,
   "id": "53b488df",
   "metadata": {},
   "outputs": [],
   "source": [
    "# Update each day if necessary based on input format\n",
    "def process_data(data):\n",
    "    stacks, steps = data.split('\\n\\n')\n",
    "\n",
    "    stacks = stacks.split('\\n')\n",
    "    stacks = list(zip(*stacks[::-1]))    # Rotate matrix.\n",
    "    stacks = [''.join(stack) for stack in stacks]\n",
    "    stacks = [[char for char in stack[1:].rstrip()] for stack in stacks[1::4]]\n",
    "\n",
    "    steps = steps.split('\\n')\n",
    "    steps = [step[5:] for step in steps]\n",
    "    steps_processed = []\n",
    "    for step in steps:\n",
    "        a, b = step.split(' from ')\n",
    "        b, c = b.split(' to ')\n",
    "        steps_processed.append([int(x) for x in [a, b, c]])\n",
    "\n",
    "    return(stacks, steps_processed)"
   ]
  },
  {
   "cell_type": "code",
   "execution_count": null,
   "id": "51c095d4",
   "metadata": {},
   "outputs": [
    {
     "name": "stdout",
     "output_type": "stream",
     "text": [
      "Opening data file at Input/Day_5_test.txt\n"
     ]
    },
    {
     "data": {
      "text/plain": [
       "([['Z', 'N'], ['M', 'C', 'D'], ['P']],\n",
       " [[1, 2, 1], [3, 1, 3], [2, 2, 1], [1, 1, 2]])"
      ]
     },
     "execution_count": null,
     "metadata": {},
     "output_type": "execute_result"
    }
   ],
   "source": [
    "# Confirm data is loaded & processed.\n",
    "\n",
    "day = 5\n",
    "test = True\n",
    "\n",
    "raw_data = get_data(day, test)\n",
    "data = process_data(raw_data)\n",
    "data"
   ]
  },
  {
   "cell_type": "code",
   "execution_count": null,
   "id": "710609fd",
   "metadata": {},
   "outputs": [],
   "source": [
    "def move(source, target, stacks):\n",
    "    x = stacks[source - 1].pop()\n",
    "    stacks[target - 1].append(x)\n",
    "    \n",
    "\n",
    "def move_x_times(times, source, target, stacks):\n",
    "    for x in range(times):\n",
    "        move(source, target, stacks)\n",
    "\n",
    "\n",
    "def solve_a(data):\n",
    "    stacks, steps = data\n",
    "    for step in steps:\n",
    "        move_x_times(*step, stacks)\n",
    "    return ''.join([stack[-1] for stack in stacks])\n",
    "    "
   ]
  },
  {
   "cell_type": "code",
   "execution_count": null,
   "id": "33781d4e",
   "metadata": {},
   "outputs": [
    {
     "data": {
      "text/plain": [
       "'CMZ'"
      ]
     },
     "execution_count": null,
     "metadata": {},
     "output_type": "execute_result"
    }
   ],
   "source": [
    "solve_a(data)"
   ]
  },
  {
   "cell_type": "markdown",
   "id": "cd23ac75",
   "metadata": {},
   "source": [
    "## Part 2\n",
    "After the rearrangement procedure completes, what crate ends up on top of each stack?\n"
   ]
  },
  {
   "cell_type": "code",
   "execution_count": null,
   "id": "842c5d67",
   "metadata": {},
   "outputs": [
    {
     "name": "stdout",
     "output_type": "stream",
     "text": [
      "Opening data file at Input/Day_5.txt\n"
     ]
    }
   ],
   "source": [
    "# Reload, because in-place mutation is fun.\n",
    "\n",
    "day = 5\n",
    "test = False\n",
    "\n",
    "raw_data = get_data(day, test)\n",
    "data = process_data(raw_data)\n",
    "# data"
   ]
  },
  {
   "cell_type": "code",
   "execution_count": null,
   "id": "6538c13d",
   "metadata": {},
   "outputs": [],
   "source": [
    "def move_b(move, source, target, stacks):\n",
    "    stack = stacks[source - 1]\n",
    "    stacks[target - 1] += stack[-move:]\n",
    "    stacks[source - 1] = stack[:-move]\n",
    "\n",
    "    \n",
    "def solve_b(data):\n",
    "    stacks, steps = data\n",
    "    for step in steps:\n",
    "        move_b(*step, stacks)\n",
    "    return ''.join([stack[-1] for stack in stacks])"
   ]
  },
  {
   "cell_type": "code",
   "execution_count": null,
   "id": "bb8df088",
   "metadata": {},
   "outputs": [
    {
     "data": {
      "text/plain": [
       "'LVZPSTTCZ'"
      ]
     },
     "execution_count": null,
     "metadata": {},
     "output_type": "execute_result"
    }
   ],
   "source": [
    "solve_b(data)"
   ]
  },
  {
   "cell_type": "code",
   "execution_count": null,
   "id": "a512da04",
   "metadata": {},
   "outputs": [],
   "source": []
  }
 ],
 "metadata": {
  "kernelspec": {
   "display_name": "python3",
   "language": "python",
   "name": "python3"
  }
 },
 "nbformat": 4,
 "nbformat_minor": 5
}
