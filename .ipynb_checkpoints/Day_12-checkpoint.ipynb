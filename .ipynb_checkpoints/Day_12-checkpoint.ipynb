{
 "cells": [
  {
   "cell_type": "markdown",
   "id": "62e834ff",
   "metadata": {},
   "source": [
    "# Day 12: Hill-Climbing Algorithm\n",
    "\n",
    "## Part 1\n",
    "**What is the fewest steps required to move from your current position to the location that should get the best signal?**"
   ]
  },
  {
   "cell_type": "code",
   "execution_count": null,
   "id": "06a93aeb",
   "metadata": {},
   "outputs": [],
   "source": [
    "# Imports.\n",
    "from string import ascii_lowercase\n",
    "from math import inf"
   ]
  },
  {
   "cell_type": "code",
   "execution_count": null,
   "id": "15e87d02",
   "metadata": {},
   "outputs": [],
   "source": [
    "# This shouldn't need to be updated.\n",
    "def get_data(day, test):\n",
    "    path = 'Input/Day_{}{}.txt'.format(day, \"_test\" if test else \"\")\n",
    "    print(\"Opening data file at {}\".format(path))\n",
    "    with open(path) as file:\n",
    "        lines = ''.join(file.readlines()).rstrip()\n",
    "    return lines"
   ]
  },
  {
   "cell_type": "code",
   "execution_count": null,
   "id": "53b488df",
   "metadata": {},
   "outputs": [],
   "source": [
    "# Update each day if necessary based on input format\n",
    "def process_data(data):\n",
    "    return [[char for char in row] for row in data.split('\\n')]"
   ]
  },
  {
   "cell_type": "code",
   "execution_count": null,
   "id": "51c095d4",
   "metadata": {},
   "outputs": [
    {
     "name": "stdout",
     "output_type": "stream",
     "text": [
      "Opening data file at Input/Day_12_test.txt\n"
     ]
    },
    {
     "data": {
      "text/plain": [
       "[['S', 'a', 'b', 'q', 'p', 'o', 'n', 'm'],\n",
       " ['a', 'b', 'c', 'r', 'y', 'x', 'x', 'l'],\n",
       " ['a', 'c', 'c', 's', 'z', 'E', 'x', 'k'],\n",
       " ['a', 'c', 'c', 't', 'u', 'v', 'w', 'j'],\n",
       " ['a', 'b', 'd', 'e', 'f', 'g', 'h', 'i']]"
      ]
     },
     "execution_count": null,
     "metadata": {},
     "output_type": "execute_result"
    }
   ],
   "source": [
    "# Confirm data is loaded & processed.\n",
    "\n",
    "day = 12\n",
    "test = True\n",
    "\n",
    "raw_data = get_data(day, test)\n",
    "data = process_data(raw_data)\n",
    "data"
   ]
  },
  {
   "cell_type": "code",
   "execution_count": null,
   "id": "f03f9e43",
   "metadata": {},
   "outputs": [],
   "source": [
    "class Location:\n",
    "    def __init__(self, char, i, j):\n",
    "        try:\n",
    "            self.value = ascii_lowercase.index(char)\n",
    "        except:\n",
    "            self.value = 0 if char == 'S' else 25\n",
    "        self.i = i\n",
    "        self.j = j\n",
    "        self.is_unvisited = True\n",
    "        self.tentative_distance = inf\n",
    "        \n",
    "\n",
    "class Map:\n",
    "    def __init__(self, matrix):\n",
    "        self.start = None\n",
    "        self.end = None\n",
    "        self.locations = []\n",
    "        self.unvisited_locations = set()\n",
    "        \n",
    "        for i, row in enumerate(matrix):\n",
    "            \n",
    "            temp = []\n",
    "            for j, char in enumerate(row):\n",
    "                node = Location(char, i, j)\n",
    "                temp.append(node)\n",
    "                self.unvisited_locations.add(node)\n",
    "                if char == 'S':\n",
    "                    self.start = node\n",
    "                    temp[-1].tentative_distance = 0\n",
    "                if char == 'E':\n",
    "                    self.end = node\n",
    "                \n",
    "            self.locations.append(temp)\n",
    "        \n",
    "        self.locations = [[Location(char, i, j) for j, char in enumerate(row)] for i, row in enumerate(matrix)]\n"
   ]
  },
  {
   "cell_type": "code",
   "execution_count": null,
   "id": "710609fd",
   "metadata": {},
   "outputs": [],
   "source": [
    "# Huzza for Dijkstra.\n",
    "def solve_a(data):\n",
    "    map = Map(data)\n",
    "    print([[location.value for location in row] for row in map.locations])\n",
    "    next = map.start\n",
    "    while map.end in map.unvisited_locations:\n",
    "        print(len(map.unvisited_locations))\n",
    "        #Calculate tent distances of unvisited neighbors. Assign min to neighbor.\n",
    "        current = next\n",
    "        for offset in [[1, 1], [1, -1], [-1, 1], [-1, -1]]:\n",
    "            # Ask forgiveness for edges.\n",
    "            try:\n",
    "                neighbor = map.locations[current.i + i][current.j + j]\n",
    "                print((neighbor.i, neighbor.j))\n",
    "                distance = abs(neighbor.value - current.value) + 1\n",
    "                # Edges only between nodes 1 height apart.\n",
    "                if distance < 2 and neighbor.is_unvisited:\n",
    "                    neighbor.tentative_distance = min(neighbor.tentative_distance,\n",
    "                                                      current.tentative_distance + distance)\n",
    "                    print(neighbor.tentative_distance)\n",
    "            except:\n",
    "                pass\n",
    "\n",
    "        # Mark node visited and remove from set.\n",
    "        current.is_unvisited = False\n",
    "        map.unvisited_locations.remove(current)\n",
    "        next = min(map.unvisited_locations, key=lambda location: location.tentative_distance)\n",
    "    return map.end.tentative_distance"
   ]
  },
  {
   "cell_type": "code",
   "execution_count": null,
   "id": "33781d4e",
   "metadata": {},
   "outputs": [
    {
     "name": "stdout",
     "output_type": "stream",
     "text": [
      "[[0, 0, 1, 16, 15, 14, 13, 12], [0, 1, 2, 17, 24, 23, 23, 11], [0, 2, 2, 18, 25, 25, 23, 10], [0, 2, 2, 19, 20, 21, 22, 9], [0, 1, 3, 4, 5, 6, 7, 8]]\n",
      "40\n",
      "39\n",
      "38\n",
      "37\n",
      "36\n",
      "35\n",
      "34\n",
      "33\n",
      "32\n",
      "31\n",
      "30\n",
      "29\n",
      "28\n",
      "27\n",
      "26\n",
      "25\n",
      "24\n",
      "23\n",
      "22\n",
      "21\n",
      "20\n",
      "19\n",
      "18\n",
      "17\n",
      "16\n",
      "inf\n"
     ]
    }
   ],
   "source": [
    "print(solve_a(data))"
   ]
  },
  {
   "cell_type": "markdown",
   "id": "cd23ac75",
   "metadata": {},
   "source": [
    "## Part 2\n"
   ]
  },
  {
   "cell_type": "code",
   "execution_count": null,
   "id": "6538c13d",
   "metadata": {},
   "outputs": [],
   "source": [
    "def solve_b(data):\n",
    "    return\n"
   ]
  },
  {
   "cell_type": "code",
   "execution_count": null,
   "id": "bb8df088",
   "metadata": {},
   "outputs": [
    {
     "name": "stdout",
     "output_type": "stream",
     "text": [
      "None\n"
     ]
    }
   ],
   "source": [
    "print(solve_b(data))"
   ]
  },
  {
   "cell_type": "code",
   "execution_count": null,
   "id": "fc61d049",
   "metadata": {},
   "outputs": [],
   "source": []
  },
  {
   "cell_type": "code",
   "execution_count": null,
   "id": "b4d22298",
   "metadata": {},
   "outputs": [],
   "source": []
  },
  {
   "cell_type": "code",
   "execution_count": null,
   "id": "baa1fd06",
   "metadata": {},
   "outputs": [],
   "source": []
  },
  {
   "cell_type": "code",
   "execution_count": null,
   "id": "7ab4df78",
   "metadata": {},
   "outputs": [
    {
     "data": {
      "text/plain": [
       "1"
      ]
     },
     "execution_count": null,
     "metadata": {},
     "output_type": "execute_result"
    }
   ],
   "source": [
    "abs(-1)"
   ]
  },
  {
   "cell_type": "code",
   "execution_count": null,
   "id": "81f48d31",
   "metadata": {},
   "outputs": [],
   "source": []
  },
  {
   "cell_type": "code",
   "execution_count": null,
   "id": "2384846c",
   "metadata": {},
   "outputs": [],
   "source": []
  }
 ],
 "metadata": {
  "kernelspec": {
   "display_name": "Python 3 (ipykernel)",
   "language": "python",
   "name": "python3"
  }
 },
 "nbformat": 4,
 "nbformat_minor": 5
}
