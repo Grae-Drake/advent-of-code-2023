{
 "cells": [
  {
   "cell_type": "markdown",
   "id": "62e834ff",
   "metadata": {},
   "source": [
    "# Day 8: Treetop Tree House\n",
    "\n",
    "## Part 1\n",
    "Consider your map; how many trees are visible from outside the grid?\n"
   ]
  },
  {
   "cell_type": "code",
   "execution_count": null,
   "id": "06a93aeb",
   "metadata": {},
   "outputs": [],
   "source": [
    "from math import inf as inf\n",
    "from math import prod as prod"
   ]
  },
  {
   "cell_type": "code",
   "execution_count": null,
   "id": "15e87d02",
   "metadata": {},
   "outputs": [],
   "source": [
    "# This shouldn't need to be updated.\n",
    "def get_data(day, test):\n",
    "    path = 'Input/Day_{}{}.txt'.format(day, \"_test\" if test else \"\")\n",
    "    print(\"Opening data file at {}\".format(path))\n",
    "    with open(path) as file:\n",
    "        lines = ''.join(file.readlines()).rstrip()\n",
    "    return lines"
   ]
  },
  {
   "cell_type": "code",
   "execution_count": null,
   "id": "53b488df",
   "metadata": {},
   "outputs": [],
   "source": [
    "# Update each day if necessary based on input format\n",
    "def process_data(data):\n",
    "    return [[int(x) for x in [*row]] for row in data.split('\\n')]"
   ]
  },
  {
   "cell_type": "code",
   "execution_count": null,
   "id": "51c095d4",
   "metadata": {},
   "outputs": [
    {
     "name": "stdout",
     "output_type": "stream",
     "text": [
      "Opening data file at Input/Day_8.txt\n"
     ]
    }
   ],
   "source": [
    "# Confirm data is loaded & processed.\n",
    "\n",
    "day = 8\n",
    "test = False\n",
    "\n",
    "raw_data = get_data(day, test)\n",
    "data = process_data(raw_data)\n",
    "# data"
   ]
  },
  {
   "cell_type": "code",
   "execution_count": null,
   "id": "67aaf4d2",
   "metadata": {},
   "outputs": [],
   "source": [
    "# Class for a _different_ kind of tree.\n",
    "class Tree:\n",
    "    def __init__(self, data):\n",
    "        self.data = data\n",
    "        self.sightlines = [True, True, True, True] # Left, right, up, down.\n",
    "        \n",
    "        \n",
    "    def visible(self):\n",
    "        return any(self.sightlines)\n",
    "        \n",
    "\n",
    "class Forest:\n",
    "    def __init__(self, matrix):\n",
    "        self.trees = [[Tree(n) for n in row] for row in matrix]\n",
    "\n",
    "\n",
    "    def update_row(self, index):\n",
    "        row = self.trees[index]\n",
    "        \n",
    "        max_left = -inf\n",
    "        max_right = -inf\n",
    "        \n",
    "        for i in range(len(row)):    \n",
    "\n",
    "            left_tree = row[i]\n",
    "            if left_tree.data <= max_left:\n",
    "                left_tree.sightlines[0] = False\n",
    "            max_left = max(max_left, left_tree.data)\n",
    "\n",
    "            right_tree = row[-i - 1]\n",
    "            if right_tree.data <= max_right:\n",
    "                right_tree.sightlines[1] = False\n",
    "            max_right = max(max_right, right_tree.data)\n",
    "            \n",
    "    def update_column(self, index):\n",
    "        column = [row[index] for row in self.trees]\n",
    "        \n",
    "        max_top = -inf\n",
    "        max_bottom = -inf\n",
    "        \n",
    "        for i in range(len(column)):\n",
    "            top_tree = column[i]\n",
    "            if top_tree.data <= max_top:\n",
    "                top_tree.sightlines[2] = False\n",
    "            max_top = max(max_top, top_tree.data)\n",
    "\n",
    "            bottom_tree = column[-i - 1]\n",
    "            if bottom_tree.data <= max_bottom:\n",
    "                bottom_tree.sightlines[3] = False\n",
    "            max_bottom = max(max_bottom, bottom_tree.data)\n",
    "            \n",
    "    \n",
    "    def visible_tree_count(self):\n",
    "        return sum([sum([tree.visible() for tree in row])for row in self.trees])\n",
    "                "
   ]
  },
  {
   "cell_type": "code",
   "execution_count": null,
   "id": "710609fd",
   "metadata": {},
   "outputs": [],
   "source": [
    "def solve_a(data):\n",
    "    forest = Forest(data)\n",
    "    \n",
    "    for i in range(len(forest.trees)):\n",
    "        forest.update_row(i)\n",
    "    \n",
    "    for j in range(len(forest.trees[1])):\n",
    "        forest.update_column(j)\n",
    "    \n",
    "    return forest.visible_tree_count()"
   ]
  },
  {
   "cell_type": "code",
   "execution_count": null,
   "id": "33781d4e",
   "metadata": {},
   "outputs": [
    {
     "name": "stdout",
     "output_type": "stream",
     "text": [
      "1801\n"
     ]
    }
   ],
   "source": [
    "print(solve_a(data))"
   ]
  },
  {
   "cell_type": "markdown",
   "id": "cd23ac75",
   "metadata": {},
   "source": [
    "## Part 2\n",
    "Consider each tree on your map. What is the highest scenic score possible for any tree?"
   ]
  },
  {
   "cell_type": "code",
   "execution_count": null,
   "id": "e9f3f4c6",
   "metadata": {},
   "outputs": [],
   "source": [
    "# Revise tree and forest classes.\n",
    "class Tree:\n",
    "    def __init__(self, data, i, j):\n",
    "        self.data = data\n",
    "        self.i = i\n",
    "        self.j = j\n",
    "        self.sightlines = [0, 0, 0, 0] # Left, right, up, down. This time the value is distance.\n",
    "\n",
    "\n",
    "class Forest:\n",
    "    def __init__(self, matrix):\n",
    "        self.trees = [[Tree(n, i, j) for j, n in enumerate(row)] for i, row in enumerate(matrix)]\n",
    "        self.height = len(self.trees)\n",
    "        self.width = len(self.trees[0])\n",
    "\n",
    "\n",
    "    def measure_sightlines(self, tree):\n",
    "        \n",
    "        \n",
    "        def measure_left(self, tree, i, j):\n",
    "            result = 0\n",
    "            if j == 0:\n",
    "                return result\n",
    "            while j > 0:\n",
    "                result += 1\n",
    "                j -= 1\n",
    "                if self.trees[i][j].data >= tree.data:\n",
    "                    break\n",
    "            tree.sightlines[0] = result\n",
    "\n",
    "\n",
    "        def measure_right(self, tree, i, j):\n",
    "            result = 0\n",
    "            if j == self.width - 1:\n",
    "                return result\n",
    "            while j < self.width - 1:\n",
    "                result += 1\n",
    "                j += 1\n",
    "                if self.trees[i][j].data >= tree.data:\n",
    "                    break\n",
    "            tree.sightlines[1] = result\n",
    "\n",
    "\n",
    "        def measure_up(self, tree, i, j):\n",
    "            result = 0\n",
    "            if i == 0:\n",
    "                return result\n",
    "            while i > 0:\n",
    "                result += 1\n",
    "                i -= 1\n",
    "                if self.trees[i][j].data >= tree.data:\n",
    "                    break\n",
    "            tree.sightlines[2] = result\n",
    "\n",
    "\n",
    "        def measure_down(self, tree, i, j):\n",
    "            result = 0\n",
    "            if i == self.height - 1:\n",
    "                return result\n",
    "            while i < self.height - 1:\n",
    "                result += 1\n",
    "                i += 1\n",
    "                if self.trees[i][j].data >= tree.data:\n",
    "                    break\n",
    "            tree.sightlines[3] = result\n",
    "\n",
    "\n",
    "        for i, row in enumerate(self.trees):\n",
    "            for j, tree in enumerate(row):\n",
    "                measure_left(self, tree, i, j)\n",
    "                measure_right(self, tree, i, j)\n",
    "                measure_up(self, tree, i, j)\n",
    "                measure_down(self, tree, i, j)\n",
    "        tree.scenic_score = prod(tree.sightlines)"
   ]
  },
  {
   "cell_type": "code",
   "execution_count": null,
   "id": "6538c13d",
   "metadata": {},
   "outputs": [],
   "source": [
    "def solve_b(data):\n",
    "    forest = Forest(data)\n",
    "    for row in forest.trees:\n",
    "        for tree in row:\n",
    "            forest.measure_sightlines(tree)\n",
    "    return max([max([prod(tree.sightlines) for tree in row]) for row in forest.trees])"
   ]
  },
  {
   "cell_type": "code",
   "execution_count": null,
   "id": "bb8df088",
   "metadata": {},
   "outputs": [
    {
     "name": "stdout",
     "output_type": "stream",
     "text": [
      "209880\n"
     ]
    }
   ],
   "source": [
    "print(solve_b(data))"
   ]
  },
  {
   "cell_type": "code",
   "execution_count": null,
   "id": "a512da04",
   "metadata": {},
   "outputs": [],
   "source": []
  }
 ],
 "metadata": {
  "kernelspec": {
   "display_name": "Python 3 (ipykernel)",
   "language": "python",
   "name": "python3"
  }
 },
 "nbformat": 4,
 "nbformat_minor": 5
}
