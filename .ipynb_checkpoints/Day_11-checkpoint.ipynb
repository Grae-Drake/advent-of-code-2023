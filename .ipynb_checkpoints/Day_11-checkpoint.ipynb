{
 "cells": [
  {
   "cell_type": "markdown",
   "id": "62e834ff",
   "metadata": {},
   "source": [
    "# Day 10: Cathode-Ray Tube\n",
    "\n",
    "## Part 1\n",
    "Find the signal strength during the 20th, 60th, 100th, 140th, 180th, and 220th cycles. **What is the sum of these six signal strengths?**\n"
   ]
  },
  {
   "cell_type": "code",
   "execution_count": null,
   "id": "06a93aeb",
   "metadata": {},
   "outputs": [],
   "source": [
    "# Imports."
   ]
  },
  {
   "cell_type": "code",
   "execution_count": null,
   "id": "15e87d02",
   "metadata": {},
   "outputs": [],
   "source": [
    "# This shouldn't need to be updated.\n",
    "def get_data(day, test):\n",
    "    path = 'Input/Day_{}{}.txt'.format(day, \"_test\" if test else \"\")\n",
    "    print(\"Opening data file at {}\".format(path))\n",
    "    with open(path) as file:\n",
    "        lines = ''.join(file.readlines()).rstrip()\n",
    "    return lines"
   ]
  },
  {
   "cell_type": "code",
   "execution_count": null,
   "id": "53b488df",
   "metadata": {},
   "outputs": [],
   "source": [
    "# Update each day if necessary based on input format\n",
    "def process_data(data):\n",
    "    rows = [row.split(' ') for row in data.split('\\n')]\n",
    "    for row in rows:\n",
    "        if len(row) == 1:\n",
    "            row.append(0)\n",
    "        else:\n",
    "            row[1] = int(row[1])\n",
    "    return rows\n"
   ]
  },
  {
   "cell_type": "code",
   "execution_count": null,
   "id": "51c095d4",
   "metadata": {},
   "outputs": [
    {
     "name": "stdout",
     "output_type": "stream",
     "text": [
      "Opening data file at Input/Day_10.txt\n"
     ]
    }
   ],
   "source": [
    "# Confirm data is loaded & processed.\n",
    "\n",
    "day = 10\n",
    "test = False\n",
    "\n",
    "raw_data = get_data(day, test)\n",
    "data = process_data(raw_data)\n",
    "# data"
   ]
  },
  {
   "cell_type": "code",
   "execution_count": null,
   "id": "710609fd",
   "metadata": {},
   "outputs": [],
   "source": [
    "def solve_a(data):\n",
    "    steps = [0]\n",
    "    for row in data:\n",
    "        steps.append(0)\n",
    "        if row[0] != 'noop':\n",
    "            steps.append(row[1])\n",
    "    \n",
    "    register = 1\n",
    "    result = 0\n",
    "    for i, step in enumerate(steps):\n",
    "        register += step\n",
    "        if (i - 19) % 40 == 0:\n",
    "            result += (i + 1) * register\n",
    "    return result\n",
    "        \n",
    "    "
   ]
  },
  {
   "cell_type": "code",
   "execution_count": null,
   "id": "33781d4e",
   "metadata": {},
   "outputs": [
    {
     "name": "stdout",
     "output_type": "stream",
     "text": [
      "14540\n"
     ]
    }
   ],
   "source": [
    "print(solve_a(data))"
   ]
  },
  {
   "cell_type": "markdown",
   "id": "cd23ac75",
   "metadata": {},
   "source": [
    "## Part 2\n",
    "Render the image given by your program. **What eight capital letters appear on your CRT?**"
   ]
  },
  {
   "cell_type": "code",
   "execution_count": null,
   "id": "6538c13d",
   "metadata": {},
   "outputs": [],
   "source": [
    "def solve_b(data):\n",
    "    # Initialize screen.\n",
    "    screen = [[], [], [], [], [], [], []]\n",
    "    \n",
    "    # Initialize an array describing changes to the register at each cycle\n",
    "    steps = []\n",
    "    for op, val in data:\n",
    "        steps.append(0)\n",
    "        if op != 'noop':\n",
    "            steps.append(val)\n",
    "            \n",
    "    # Simulate changes to the register, drawing pixels to the screen each cycle.\n",
    "    register = 1\n",
    "    for i, step in enumerate(steps):\n",
    "        sprite_pos = [register - 1 + i for i in range(3)]\n",
    "        screen[i // 40].append('#' if i % 40 in sprite_pos else '.')\n",
    "        register += step\n",
    "        \n",
    "    for row in screen:\n",
    "        print(''.join(row))\n",
    "    return"
   ]
  },
  {
   "cell_type": "code",
   "execution_count": null,
   "id": "bb8df088",
   "metadata": {},
   "outputs": [
    {
     "name": "stdout",
     "output_type": "stream",
     "text": [
      "####.#..#.####.####.####.#..#..##..####.\n",
      "#....#..#....#.#.......#.#..#.#..#....#.\n",
      "###..####...#..###....#..####.#......#..\n",
      "#....#..#..#...#.....#...#..#.#.....#...\n",
      "#....#..#.#....#....#....#..#.#..#.#....\n",
      "####.#..#.####.#....####.#..#..##..####.\n",
      "\n",
      "None\n"
     ]
    }
   ],
   "source": [
    "print(solve_b(data))"
   ]
  },
  {
   "cell_type": "code",
   "execution_count": null,
   "id": "fc61d049",
   "metadata": {},
   "outputs": [],
   "source": []
  }
 ],
 "metadata": {
  "kernelspec": {
   "display_name": "python3",
   "language": "python",
   "name": "python3"
  }
 },
 "nbformat": 4,
 "nbformat_minor": 5
}
