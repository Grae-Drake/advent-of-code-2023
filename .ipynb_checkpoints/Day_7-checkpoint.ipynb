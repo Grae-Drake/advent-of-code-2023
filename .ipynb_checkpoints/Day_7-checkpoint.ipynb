{
 "cells": [
  {
   "cell_type": "markdown",
   "id": "62e834ff",
   "metadata": {},
   "source": [
    "# Day 7: No Space Left On Device\n",
    "\n",
    "## Part 1\n",
    "Find all of the directories with a total size of at most 100000. **What is the sum of the total sizes of those directories?**"
   ]
  },
  {
   "cell_type": "code",
   "execution_count": null,
   "id": "06a93aeb",
   "metadata": {},
   "outputs": [],
   "source": []
  },
  {
   "cell_type": "code",
   "execution_count": null,
   "id": "15e87d02",
   "metadata": {},
   "outputs": [],
   "source": [
    "# This shouldn't need to be updated.\n",
    "def get_data(day, test):\n",
    "    path = 'Input/Day_{}{}.txt'.format(day, \"_test\" if test else \"\")\n",
    "    print(\"Opening data file at {}\".format(path))\n",
    "    with open(path) as file:\n",
    "        lines = ''.join(file.readlines()).rstrip()\n",
    "    return lines"
   ]
  },
  {
   "cell_type": "code",
   "execution_count": null,
   "id": "53b488df",
   "metadata": {},
   "outputs": [],
   "source": [
    "# Update each day if necessary based on input format\n",
    "def process_data(data):\n",
    "    return [row.split(' ') for row in data.split('\\n')]"
   ]
  },
  {
   "cell_type": "code",
   "execution_count": null,
   "id": "51c095d4",
   "metadata": {},
   "outputs": [
    {
     "name": "stdout",
     "output_type": "stream",
     "text": [
      "Opening data file at Input/Day_7.txt\n"
     ]
    }
   ],
   "source": [
    "# Confirm data is loaded & processed.\n",
    "\n",
    "day = 7\n",
    "test = False\n",
    "\n",
    "raw_data = get_data(day, test)\n",
    "data = process_data(raw_data)\n",
    "# data"
   ]
  },
  {
   "cell_type": "code",
   "execution_count": null,
   "id": "e06cda13",
   "metadata": {},
   "outputs": [],
   "source": [
    "# Tree data structure for file system.\n",
    "class Tree:\n",
    "    def __init__(self, name, size, node_type, parent):\n",
    "        self.children = {}\n",
    "        self.parent = parent\n",
    "        self.name = name\n",
    "        self.size = size\n",
    "        self.total_size = None\n",
    "        self.type = node_type\n",
    "        self.path = self.get_path()\n",
    "        \n",
    "        \n",
    "    def set_total_size(self):\n",
    "        if self.type != 'dir':\n",
    "            self.total_size = self.size\n",
    "        else:\n",
    "            self.total_size = sum([child.set_total_size() for child in self.children.values()])\n",
    "        return (self.total_size) \n",
    "\n",
    "\n",
    "    def get_path(self):\n",
    "        if self.parent == None:\n",
    "            return '/'\n",
    "        else:\n",
    "            return self.parent.get_path() + self.name + '/'\n",
    "\n",
    "\n",
    "    def get_subdir_sizes(self, root):\n",
    "        if self.type != 'dir':\n",
    "            return\n",
    "        else:\n",
    "            root.subdir_sizes.append(self.total_size)\n",
    "            for child in self.children.values():\n",
    "                child.get_subdir_sizes(root)\n",
    "\n",
    "\n",
    "# Terminal data structure to evaluate commands and maintain state.\n",
    "class Terminal:\n",
    "    def __init__(self):\n",
    "        self.root = Tree('/', 0, 'dir', None)\n",
    "        self.working_dir = self.root\n",
    "        \n",
    "\n",
    "    def process_input(self, line):\n",
    "        if line[0] == '$':\n",
    "            if line[1] == 'cd':\n",
    "                self.cd(line[2])\n",
    "            elif line[1] == 'ls':\n",
    "                # ls does not change state.\n",
    "                pass\n",
    "        else:\n",
    "            self.add_child(line[0], line[1])\n",
    "\n",
    "\n",
    "    def cd(self, argument):\n",
    "        target = None\n",
    "        if argument == '/':\n",
    "            self.working_dir = self.root\n",
    "        elif argument == '..':\n",
    "            self.working_dir = self.working_dir.parent\n",
    "        else:\n",
    "            self.working_dir = self.working_dir.children[argument]\n",
    "\n",
    "\n",
    "    def add_child(self, arg1, arg2):\n",
    "        if arg1 == 'dir':\n",
    "            self.working_dir.children[arg2] = Tree(arg2, 0, 'dir', self.working_dir)\n",
    "        else:\n",
    "            self.working_dir.children[arg1] = Tree(arg2, int(arg1), 'file', self.working_dir)\n",
    "\n",
    "        "
   ]
  },
  {
   "cell_type": "code",
   "execution_count": null,
   "id": "710609fd",
   "metadata": {},
   "outputs": [],
   "source": [
    "def solve_a(data):\n",
    "    terminal = Terminal()\n",
    "    for line in data:\n",
    "        terminal.process_input(line)\n",
    "\n",
    "    terminal.root.set_total_size()\n",
    "    terminal.root.subdir_sizes = []\n",
    "    terminal.root.get_subdir_sizes(terminal.root)\n",
    "\n",
    "    return sum([size for size in terminal.root.subdir_sizes if size <= 100000])\n"
   ]
  },
  {
   "cell_type": "code",
   "execution_count": null,
   "id": "33781d4e",
   "metadata": {},
   "outputs": [
    {
     "name": "stdout",
     "output_type": "stream",
     "text": [
      "1581595\n"
     ]
    }
   ],
   "source": [
    "print(solve_a(data))"
   ]
  },
  {
   "cell_type": "markdown",
   "id": "cd23ac75",
   "metadata": {},
   "source": [
    "## Part 2\n",
    "Find the smallest directory that, if deleted, would free up enough space on the filesystem to run the update. What is the total size of that directory?\n",
    "\n"
   ]
  },
  {
   "cell_type": "code",
   "execution_count": null,
   "id": "6538c13d",
   "metadata": {},
   "outputs": [],
   "source": [
    "def solve_b(data):\n",
    "    terminal = Terminal()\n",
    "    for line in data:\n",
    "        terminal.process_input(line)\n",
    "    terminal.root.set_total_size()\n",
    "    terminal.root.subdir_sizes = []\n",
    "    terminal.root.get_subdir_sizes(terminal.root)\n",
    "    terminal.root.subdir_sizes.sort()\n",
    "    disc_size = 70000000\n",
    "    required_space = 30000000\n",
    "    available_space = disc_size - terminal.root.subdir_sizes[-1]\n",
    "    needed_freed = required_space - available_space\n",
    "    \n",
    "    big_enough = [size for size in terminal.root.subdir_sizes if size >= needed_freed]\n",
    "    return big_enough[0]\n",
    "    "
   ]
  },
  {
   "cell_type": "code",
   "execution_count": null,
   "id": "bb8df088",
   "metadata": {},
   "outputs": [
    {
     "name": "stdout",
     "output_type": "stream",
     "text": [
      "1544176\n"
     ]
    }
   ],
   "source": [
    "print(solve_b(data))"
   ]
  },
  {
   "cell_type": "code",
   "execution_count": null,
   "id": "a512da04",
   "metadata": {},
   "outputs": [],
   "source": []
  },
  {
   "cell_type": "code",
   "execution_count": null,
   "id": "73d1918d",
   "metadata": {},
   "outputs": [],
   "source": []
  }
 ],
 "metadata": {
  "kernelspec": {
   "display_name": "Python 3 (ipykernel)",
   "language": "python",
   "name": "python3"
  }
 },
 "nbformat": 4,
 "nbformat_minor": 5
}
