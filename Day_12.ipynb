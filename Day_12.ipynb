{
 "cells": [
  {
   "cell_type": "markdown",
   "id": "62e834ff",
   "metadata": {},
   "source": [
    "# Day 12: Hill-Climbing Algorithm\n",
    "\n",
    "## Part 1\n",
    "**What is the fewest steps required to move from your current position to the location that should get the best signal?**"
   ]
  },
  {
   "cell_type": "code",
   "execution_count": null,
   "id": "06a93aeb",
   "metadata": {},
   "outputs": [],
   "source": [
    "# Imports.\n",
    "from string import ascii_lowercase\n",
    "from math import inf"
   ]
  },
  {
   "cell_type": "code",
   "execution_count": null,
   "id": "15e87d02",
   "metadata": {},
   "outputs": [],
   "source": [
    "# This shouldn't need to be updated.\n",
    "def get_data(day, test):\n",
    "    path = 'Input/Day_{}{}.txt'.format(day, \"_test\" if test else \"\")\n",
    "    print(\"Opening data file at {}\".format(path))\n",
    "    with open(path) as file:\n",
    "        lines = ''.join(file.readlines()).rstrip()\n",
    "    return lines"
   ]
  },
  {
   "cell_type": "code",
   "execution_count": null,
   "id": "53b488df",
   "metadata": {},
   "outputs": [],
   "source": [
    "# Update each day if necessary based on input format\n",
    "def process_data(data):\n",
    "    return [[char for char in row] for row in data.split('\\n')]"
   ]
  },
  {
   "cell_type": "code",
   "execution_count": null,
   "id": "51c095d4",
   "metadata": {},
   "outputs": [
    {
     "name": "stdout",
     "output_type": "stream",
     "text": [
      "Opening data file at Input/Day_12.txt\n"
     ]
    }
   ],
   "source": [
    "# Confirm data is loaded & processed.\n",
    "\n",
    "day = 12\n",
    "test = False\n",
    "\n",
    "raw_data = get_data(day, test)\n",
    "data = process_data(raw_data)\n",
    "# data"
   ]
  },
  {
   "cell_type": "code",
   "execution_count": null,
   "id": "f03f9e43",
   "metadata": {},
   "outputs": [],
   "source": [
    "class Location:\n",
    "    def __init__(self, char, i, j):\n",
    "        self.i = i\n",
    "        self.j = j\n",
    "        self.tentative_distance = inf\n",
    "        try:\n",
    "            self.value = ascii_lowercase.index(char)\n",
    "        except:\n",
    "            if char == 'S':\n",
    "                self.value = 0\n",
    "                self.tentative_distance = 0\n",
    "            else:\n",
    "                self.value = 25\n",
    "        \n",
    "\n",
    "class Map:\n",
    "    \n",
    "    def __init__(self, matrix):\n",
    "        self.start = None\n",
    "        self.end = None\n",
    "        self.locations = []\n",
    "        self.unvisited_locations = set()\n",
    "        \n",
    "        for i, row in enumerate(matrix):\n",
    "            \n",
    "            temp = []\n",
    "            for j, char in enumerate(row):\n",
    "                location = Location(char, i, j)\n",
    "                temp.append(location)\n",
    "                self.unvisited_locations.add(location)\n",
    "                if char == 'S':\n",
    "                    self.start = location\n",
    "                    location.tentative_distance = 0\n",
    "                if char == 'E':\n",
    "                    self.end = location\n",
    "            self.locations.append(temp)\n"
   ]
  },
  {
   "cell_type": "code",
   "execution_count": null,
   "id": "710609fd",
   "metadata": {},
   "outputs": [],
   "source": [
    "# Huzza for Dijkstra.\n",
    "def solve_a(data):\n",
    "    map = Map(data)\n",
    "    next = map.start\n",
    "    \n",
    "    while map.end in map.unvisited_locations:\n",
    "        current = next\n",
    "        for i, j in [[1, 0], [-1, 0], [0, 1], [0, -1]]:\n",
    "            test_i = current.i + i\n",
    "            test_j = current.j + j\n",
    "            if test_i >= 0 and test_i < len(map.locations) and test_j >= 0 and test_j < len(map.locations[0]):\n",
    "                neighbor = map.locations[current.i + i][current.j + j]\n",
    "                \n",
    "                # Edge only if neighbor is at most 1 higher than current.\n",
    "                up = neighbor.value - current.value\n",
    "                if up <= 1 and neighbor in map.unvisited_locations:\n",
    "                    neighbor.tentative_distance = min(neighbor.tentative_distance,\n",
    "                                                      current.tentative_distance + 1)\n",
    "\n",
    "        # Remove location from unvisited set.\n",
    "        map.unvisited_locations.remove(current)\n",
    "        try:\n",
    "            next = min(map.unvisited_locations, key=lambda location: location.tentative_distance)\n",
    "        except:\n",
    "            break\n",
    "    return map.end.tentative_distance"
   ]
  },
  {
   "cell_type": "code",
   "execution_count": null,
   "id": "33781d4e",
   "metadata": {},
   "outputs": [
    {
     "name": "stdout",
     "output_type": "stream",
     "text": [
      "370\n"
     ]
    }
   ],
   "source": [
    "print(solve_a(data))"
   ]
  },
  {
   "cell_type": "markdown",
   "id": "cd23ac75",
   "metadata": {},
   "source": [
    "## Part 2\n",
    "**What is the fewest steps required to move starting from any square with elevation a to the location that should get the best signal?**"
   ]
  },
  {
   "cell_type": "code",
   "execution_count": null,
   "id": "6538c13d",
   "metadata": {},
   "outputs": [],
   "source": [
    "# Write it, cut it, paste it, save it, load it, check it, quick rewrite it,\n",
    "\n",
    "def solve_b(data):\n",
    "    map = Map(data)\n",
    "    \n",
    "    # Flip it.\n",
    "    map.start.tentative_distance = inf\n",
    "    map.end.tentative_distance = 0\n",
    "    next = map.end\n",
    "    \n",
    "    while True:\n",
    "        current = next\n",
    "        for i, j in [[1, 0], [-1, 0], [0, 1], [0, -1]]:\n",
    "            test_i = current.i + i\n",
    "            test_j = current.j + j\n",
    "            if test_i >= 0 and test_i < len(map.locations) and test_j >= 0 and test_j < len(map.locations[0]):\n",
    "                neighbor = map.locations[current.i + i][current.j + j]\n",
    "                \n",
    "                # In reverse you can go down at most 1.\n",
    "                down = current.value - neighbor.value\n",
    "                if down <= 1 and neighbor in map.unvisited_locations:\n",
    "                    neighbor.tentative_distance = min(neighbor.tentative_distance,\n",
    "                                                      current.tentative_distance + 1)\n",
    "                    if neighbor.value == 0:\n",
    "                        return neighbor.tentative_distance\n",
    "\n",
    "        # Removed location from unvisited set.\n",
    "        map.unvisited_locations.remove(current)\n",
    "        try:\n",
    "            next = min(map.unvisited_locations, key=lambda location: location.tentative_distance)\n",
    "        except:\n",
    "            break"
   ]
  },
  {
   "cell_type": "code",
   "execution_count": null,
   "id": "bb8df088",
   "metadata": {},
   "outputs": [
    {
     "name": "stdout",
     "output_type": "stream",
     "text": [
      "363\n"
     ]
    }
   ],
   "source": [
    "print(solve_b(data))"
   ]
  },
  {
   "cell_type": "code",
   "execution_count": null,
   "id": "2384846c",
   "metadata": {},
   "outputs": [],
   "source": []
  }
 ],
 "metadata": {
  "kernelspec": {
   "display_name": "Python 3 (ipykernel)",
   "language": "python",
   "name": "python3"
  }
 },
 "nbformat": 4,
 "nbformat_minor": 5
}
