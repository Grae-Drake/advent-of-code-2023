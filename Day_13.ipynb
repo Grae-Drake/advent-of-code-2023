{
 "cells": [
  {
   "cell_type": "markdown",
   "id": "62e834ff",
   "metadata": {},
   "source": [
    "# Day 13: Distress Signal\n",
    "\n",
    "## Part 1\n",
    "Determine which pairs of packets are already in the right order. **What is the sum of the indices of those pairs?**"
   ]
  },
  {
   "cell_type": "code",
   "execution_count": null,
   "id": "06a93aeb",
   "metadata": {},
   "outputs": [],
   "source": [
    "# Imports.\n",
    "from functools import cmp_to_key"
   ]
  },
  {
   "cell_type": "code",
   "execution_count": null,
   "id": "15e87d02",
   "metadata": {},
   "outputs": [],
   "source": [
    "# This shouldn't need to be updated.\n",
    "def get_data(day, test):\n",
    "    path = 'Input/Day_{}{}.txt'.format(day, \"_test\" if test else \"\")\n",
    "    print(\"Opening data file at {}\".format(path))\n",
    "    with open(path) as file:\n",
    "        lines = ''.join(file.readlines()).rstrip()\n",
    "    return lines"
   ]
  },
  {
   "cell_type": "code",
   "execution_count": null,
   "id": "53b488df",
   "metadata": {},
   "outputs": [],
   "source": [
    "# Update each day if necessary based on input format\n",
    "def process_data(data):\n",
    "    return [[json.loads(x) for x in pair.split('\\n')] for pair in data.split('\\n\\n')]"
   ]
  },
  {
   "cell_type": "code",
   "execution_count": null,
   "id": "51c095d4",
   "metadata": {},
   "outputs": [
    {
     "name": "stdout",
     "output_type": "stream",
     "text": [
      "Opening data file at Input/Day_13.txt\n"
     ]
    }
   ],
   "source": [
    "# Confirm data is loaded & processed.\n",
    "\n",
    "day = 13\n",
    "test = False\n",
    "\n",
    "raw_data = get_data(day, test)\n",
    "data = process_data(raw_data)\n",
    "# data"
   ]
  },
  {
   "cell_type": "code",
   "execution_count": null,
   "id": "710609fd",
   "metadata": {},
   "outputs": [],
   "source": [
    "def compare(a, b):\n",
    "    \n",
    "    # Compare integers.\n",
    "    if type(a) == int and type(b) == int:\n",
    "        if a < b:\n",
    "            return 1\n",
    "        elif a > b:\n",
    "            return -1\n",
    "        else:\n",
    "            return 0\n",
    "    \n",
    "    # Compare lists\n",
    "    elif type(a) == list and type(b) == list:\n",
    "        for pair in zip(a, b):\n",
    "            result = compare(*pair)\n",
    "            if result:\n",
    "                return result\n",
    "        return 1 if len(a) < len(b) else -1 if len(b) < len(a) else 0\n",
    "    \n",
    "    # Type mismatch, coerce and try again.\n",
    "    elif type(a) == list and type(b) == int:\n",
    "        return compare(a, [b])\n",
    "    elif type(a) == int and type(b) == list:\n",
    "        return compare([a], b)\n",
    "\n",
    "\n",
    "def solve_a(data):\n",
    "    compares = [compare(a, b) for a, b in data]\n",
    "    result = 0\n",
    "    for i, val in enumerate(compares):\n",
    "        if val == 1:\n",
    "            result += i + 1\n",
    "    return result"
   ]
  },
  {
   "cell_type": "code",
   "execution_count": null,
   "id": "33781d4e",
   "metadata": {},
   "outputs": [
    {
     "name": "stdout",
     "output_type": "stream",
     "text": [
      "5720\n"
     ]
    }
   ],
   "source": [
    "print(solve_a(data))"
   ]
  },
  {
   "cell_type": "markdown",
   "id": "cd23ac75",
   "metadata": {},
   "source": [
    "## Part 2\n"
   ]
  },
  {
   "cell_type": "code",
   "execution_count": null,
   "id": "6538c13d",
   "metadata": {},
   "outputs": [],
   "source": [
    "def solve_b(data):\n",
    "    packets = [packet for line in data for packet in line]\n",
    "    a = [[6]]\n",
    "    b = [[2]]\n",
    "    packets += [a, b]\n",
    "    packets.sort(key=cmp_to_key(compare), reverse=True)\n",
    "    return((packets.index(a) + 1) * (packets.index(b) + 1))"
   ]
  },
  {
   "cell_type": "code",
   "execution_count": null,
   "id": "bb8df088",
   "metadata": {},
   "outputs": [
    {
     "name": "stdout",
     "output_type": "stream",
     "text": [
      "23504\n"
     ]
    }
   ],
   "source": [
    "print(solve_b(data))"
   ]
  },
  {
   "cell_type": "code",
   "execution_count": null,
   "id": "47c53059",
   "metadata": {},
   "outputs": [],
   "source": []
  }
 ],
 "metadata": {
  "kernelspec": {
   "display_name": "Python 3 (ipykernel)",
   "language": "python",
   "name": "python3"
  }
 },
 "nbformat": 4,
 "nbformat_minor": 5
}
